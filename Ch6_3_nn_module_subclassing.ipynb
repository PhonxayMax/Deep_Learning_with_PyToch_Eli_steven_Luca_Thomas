{
  "cells": [
    {
      "cell_type": "markdown",
      "metadata": {
        "id": "view-in-github",
        "colab_type": "text"
      },
      "source": [
        "<a href=\"https://colab.research.google.com/github/PhonxayMax/Deep_Learning_with_PyToch_Eli_steven_Luca_Thomas/blob/main/Ch6_3_nn_module_subclassing.ipynb\" target=\"_parent\"><img src=\"https://colab.research.google.com/assets/colab-badge.svg\" alt=\"Open In Colab\"/></a>"
      ]
    },
    {
      "cell_type": "code",
      "execution_count": 1,
      "metadata": {
        "id": "qOKsZuuugxAG"
      },
      "outputs": [],
      "source": [
        "%matplotlib inline\n",
        "import numpy as np\n",
        "import torch\n",
        "import torch.optim as optim\n",
        "import torch.nn as nn\n",
        "\n",
        "torch.set_printoptions(edgeitems=2, linewidth=75)"
      ]
    },
    {
      "cell_type": "code",
      "execution_count": 2,
      "metadata": {
        "id": "Hs_r4FEqgxAH",
        "outputId": "7f319a9f-bbdb-4e93-d75d-b9784a1b5846",
        "colab": {
          "base_uri": "https://localhost:8080/"
        }
      },
      "outputs": [
        {
          "output_type": "execute_result",
          "data": {
            "text/plain": [
              "Sequential(\n",
              "  (0): Linear(in_features=1, out_features=11, bias=True)\n",
              "  (1): Tanh()\n",
              "  (2): Linear(in_features=11, out_features=1, bias=True)\n",
              ")"
            ]
          },
          "metadata": {},
          "execution_count": 2
        }
      ],
      "source": [
        "seq_model = nn.Sequential(\n",
        "            nn.Linear(1, 11), # <1>\n",
        "            nn.Tanh(),\n",
        "            nn.Linear(11, 1)) # <1>\n",
        "seq_model"
      ]
    },
    {
      "cell_type": "code",
      "source": [
        "[param.shape for param in seq_model.parameters()]"
      ],
      "metadata": {
        "colab": {
          "base_uri": "https://localhost:8080/"
        },
        "id": "Ss_vL_OLl-DE",
        "outputId": "527cd827-ff97-45d4-9609-39a9d24c2c9c"
      },
      "execution_count": 7,
      "outputs": [
        {
          "output_type": "execute_result",
          "data": {
            "text/plain": [
              "[torch.Size([11, 1]), torch.Size([11]), torch.Size([1, 11]), torch.Size([1])]"
            ]
          },
          "metadata": {},
          "execution_count": 7
        }
      ]
    },
    {
      "cell_type": "code",
      "source": [
        "for name, param in seq_model.named_parameters():\n",
        "    print(name, param.shape)\n"
      ],
      "metadata": {
        "colab": {
          "base_uri": "https://localhost:8080/"
        },
        "id": "AxC93Z7Rm_Rr",
        "outputId": "e2167a1e-0e21-4104-d2d4-52fc74328e67"
      },
      "execution_count": 8,
      "outputs": [
        {
          "output_type": "stream",
          "name": "stdout",
          "text": [
            "0.weight torch.Size([11, 1])\n",
            "0.bias torch.Size([11])\n",
            "2.weight torch.Size([1, 11])\n",
            "2.bias torch.Size([1])\n"
          ]
        }
      ]
    },
    {
      "cell_type": "code",
      "execution_count": 12,
      "metadata": {
        "id": "JSAte9TAgxAI",
        "outputId": "24784f0e-fc96-40f3-f70b-97ae4ed02d6e",
        "colab": {
          "base_uri": "https://localhost:8080/"
        }
      },
      "outputs": [
        {
          "output_type": "execute_result",
          "data": {
            "text/plain": [
              "Sequential(\n",
              "  (hidden_linear): Linear(in_features=1, out_features=12, bias=True)\n",
              "  (hidden_activation): Tanh()\n",
              "  (output_linear): Linear(in_features=12, out_features=1, bias=True)\n",
              ")"
            ]
          },
          "metadata": {},
          "execution_count": 12
        }
      ],
      "source": [
        "from collections import OrderedDict\n",
        "\n",
        "namedseq_model = nn.Sequential(OrderedDict([\n",
        "    ('hidden_linear', nn.Linear(1, 12)),\n",
        "    ('hidden_activation', nn.Tanh()),\n",
        "    ('output_linear', nn.Linear(12 , 1))\n",
        "]))\n",
        "\n",
        "namedseq_model"
      ]
    },
    {
      "cell_type": "code",
      "execution_count": 10,
      "metadata": {
        "id": "vpT-WqVSgxAJ",
        "outputId": "3776fd76-9d1f-454e-81f2-8d4847a3bb07",
        "colab": {
          "base_uri": "https://localhost:8080/"
        }
      },
      "outputs": [
        {
          "output_type": "execute_result",
          "data": {
            "text/plain": [
              "SubclassModel(\n",
              "  (hidden_linear): Linear(in_features=1, out_features=13, bias=True)\n",
              "  (hidden_activation): Tanh()\n",
              "  (output_linear): Linear(in_features=13, out_features=1, bias=True)\n",
              ")"
            ]
          },
          "metadata": {},
          "execution_count": 10
        }
      ],
      "source": [
        "class SubclassModel(nn.Module):\n",
        "    def __init__(self):\n",
        "        super().__init__()  # <1>\n",
        "\n",
        "        self.hidden_linear = nn.Linear(1, 13)\n",
        "        self.hidden_activation = nn.Tanh()\n",
        "        self.output_linear = nn.Linear(13, 1)\n",
        "\n",
        "    def forward(self, input):\n",
        "        hidden_t = self.hidden_linear(input)\n",
        "        activated_t = self.hidden_activation(hidden_t)\n",
        "        output_t = self.output_linear(activated_t)\n",
        "\n",
        "        return output_t\n",
        "\n",
        "subclass_model = SubclassModel()\n",
        "subclass_model"
      ]
    },
    {
      "cell_type": "code",
      "execution_count": 4,
      "metadata": {
        "id": "j4-0bTISgxAJ",
        "outputId": "1b47e9ed-af1b-48a4-cd46-241c9236bad8",
        "colab": {
          "base_uri": "https://localhost:8080/",
          "height": 211
        }
      },
      "outputs": [
        {
          "output_type": "error",
          "ename": "NameError",
          "evalue": "name 'subclass_model' is not defined",
          "traceback": [
            "\u001b[0;31m---------------------------------------------------------------------------\u001b[0m",
            "\u001b[0;31mNameError\u001b[0m                                 Traceback (most recent call last)",
            "\u001b[0;32m<ipython-input-4-652d3c4b78fc>\u001b[0m in \u001b[0;36m<cell line: 0>\u001b[0;34m()\u001b[0m\n\u001b[1;32m      1\u001b[0m for type_str, model in [('seq', seq_model),\n\u001b[1;32m      2\u001b[0m                         \u001b[0;34m(\u001b[0m\u001b[0;34m'namedseq'\u001b[0m\u001b[0;34m,\u001b[0m \u001b[0mnamedseq_model\u001b[0m\u001b[0;34m)\u001b[0m\u001b[0;34m,\u001b[0m\u001b[0;34m\u001b[0m\u001b[0;34m\u001b[0m\u001b[0m\n\u001b[0;32m----> 3\u001b[0;31m                         ('subclass', subclass_model)]:\n\u001b[0m\u001b[1;32m      4\u001b[0m     \u001b[0mprint\u001b[0m\u001b[0;34m(\u001b[0m\u001b[0mtype_str\u001b[0m\u001b[0;34m)\u001b[0m\u001b[0;34m\u001b[0m\u001b[0;34m\u001b[0m\u001b[0m\n\u001b[1;32m      5\u001b[0m     \u001b[0;32mfor\u001b[0m \u001b[0mname_str\u001b[0m\u001b[0;34m,\u001b[0m \u001b[0mparam\u001b[0m \u001b[0;32min\u001b[0m \u001b[0mmodel\u001b[0m\u001b[0;34m.\u001b[0m\u001b[0mnamed_parameters\u001b[0m\u001b[0;34m(\u001b[0m\u001b[0;34m)\u001b[0m\u001b[0;34m:\u001b[0m\u001b[0;34m\u001b[0m\u001b[0;34m\u001b[0m\u001b[0m\n",
            "\u001b[0;31mNameError\u001b[0m: name 'subclass_model' is not defined"
          ]
        }
      ],
      "source": [
        "for type_str, model in [('seq', seq_model),\n",
        "                        ('namedseq', namedseq_model),\n",
        "                        ('subclass', subclass_model)]:\n",
        "    print(type_str)\n",
        "    for name_str, param in model.named_parameters():\n",
        "        print(\"{:21} {:19} {}\".format(\n",
        "            name_str, str(param.shape), param.numel()))\n",
        "\n",
        "    print()"
      ]
    },
    {
      "cell_type": "code",
      "execution_count": 5,
      "metadata": {
        "id": "pLOAdzZxgxAJ",
        "outputId": "3ef56e4a-5951-4114-dd69-47120aef9370",
        "colab": {
          "base_uri": "https://localhost:8080/"
        }
      },
      "outputs": [
        {
          "output_type": "execute_result",
          "data": {
            "text/plain": [
              "SubclassFunctionalModel(\n",
              "  (hidden_linear): Linear(in_features=1, out_features=14, bias=True)\n",
              "  (output_linear): Linear(in_features=14, out_features=1, bias=True)\n",
              ")"
            ]
          },
          "metadata": {},
          "execution_count": 5
        }
      ],
      "source": [
        "class SubclassFunctionalModel(nn.Module):\n",
        "    def __init__(self):\n",
        "        super().__init__()\n",
        "\n",
        "        self.hidden_linear = nn.Linear(1, 14)\n",
        "                                                # <1>\n",
        "        self.output_linear = nn.Linear(14, 1)\n",
        "\n",
        "    def forward(self, input):\n",
        "        hidden_t = self.hidden_linear(input)\n",
        "        activated_t = torch.tanh(hidden_t) # <2>\n",
        "        output_t = self.output_linear(activated_t)\n",
        "\n",
        "        return output_t\n",
        "\n",
        "func_model = SubclassFunctionalModel()\n",
        "func_model"
      ]
    }
  ],
  "metadata": {
    "kernelspec": {
      "display_name": "Python 3",
      "language": "python",
      "name": "python3"
    },
    "language_info": {
      "codemirror_mode": {
        "name": "ipython",
        "version": 3
      },
      "file_extension": ".py",
      "mimetype": "text/x-python",
      "name": "python",
      "nbconvert_exporter": "python",
      "pygments_lexer": "ipython3",
      "version": "3.7.6"
    },
    "colab": {
      "provenance": [],
      "include_colab_link": true
    }
  },
  "nbformat": 4,
  "nbformat_minor": 0
}